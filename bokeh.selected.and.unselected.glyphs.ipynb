{
 "cells": [
  {
   "cell_type": "code",
   "execution_count": 1,
   "id": "65dd28ec",
   "metadata": {},
   "outputs": [],
   "source": [
    "from bokeh.io import output_file, show\n",
    "from bokeh.models import Circle\n",
    "from bokeh.plotting import figure"
   ]
  },
  {
   "cell_type": "code",
   "execution_count": 2,
   "id": "3c748aac",
   "metadata": {},
   "outputs": [],
   "source": [
    "output_file(\"styling_selections.html\")"
   ]
  },
  {
   "cell_type": "code",
   "execution_count": 6,
   "id": "2e50d60d",
   "metadata": {},
   "outputs": [],
   "source": [
    "plot = figure(width=400, height=400, tools=\"tap\", title=\"Select a circle\")\n",
    "renderer = plot.circle([1, 2, 3, 4, 5], [2, 5, 8, 2, 7], size=50)"
   ]
  },
  {
   "cell_type": "code",
   "execution_count": 7,
   "id": "ec783800",
   "metadata": {},
   "outputs": [],
   "source": [
    "selected_circle = Circle(fill_alpha=1, fill_color=\"firebrick\", line_color=None)\n",
    "nonselected_circle = Circle(fill_alpha=0.2, fill_color=\"blue\", line_color=\"firebrick\")\n",
    "renderer.selection_glyph = selected_circle\n",
    "renderer.nonselection_glyph = nonselected_circle"
   ]
  },
  {
   "cell_type": "code",
   "execution_count": 8,
   "id": "a5ac3009",
   "metadata": {},
   "outputs": [],
   "source": [
    "show(plot)"
   ]
  },
  {
   "cell_type": "code",
   "execution_count": null,
   "id": "e6b6e0fc",
   "metadata": {},
   "outputs": [],
   "source": []
  }
 ],
 "metadata": {
  "kernelspec": {
   "display_name": "Python 3 (ipykernel)",
   "language": "python",
   "name": "python3"
  },
  "language_info": {
   "codemirror_mode": {
    "name": "ipython",
    "version": 3
   },
   "file_extension": ".py",
   "mimetype": "text/x-python",
   "name": "python",
   "nbconvert_exporter": "python",
   "pygments_lexer": "ipython3",
   "version": "3.10.5"
  }
 },
 "nbformat": 4,
 "nbformat_minor": 5
}
